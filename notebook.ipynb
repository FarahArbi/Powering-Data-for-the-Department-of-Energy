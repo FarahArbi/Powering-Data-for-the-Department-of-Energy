{
 "cells": [
  {
   "cell_type": "code",
   "execution_count": null,
   "id": "408b0fb1-926b-4c41-98e8-15803a1999cb",
   "metadata": {
    "executionCancelledAt": null,
    "executionTime": 10,
    "lastExecutedAt": 1753728436147,
    "lastExecutedByKernel": "87e771f3-141a-4264-9e15-dd0e0d295b6d",
    "lastScheduledRunId": null,
    "lastSuccessfullyExecutedCode": "import pandas as pd\nimport json"
   },
   "outputs": [],
   "source": [
    "#Libraries\n",
    "\n",
    "import pandas as pd\n",
    "import json\n",
    "import numpy as np\n",
    "import matplotlib.pyplot as plt\n",
    "import seaborn as sns\n",
    "import plotly.express as px"
   ]
  },
  {
   "cell_type": "code",
   "execution_count": 4,
   "id": "e79342a8-2eeb-4bcc-92f0-70c5ebec76e5",
   "metadata": {
    "executionCancelledAt": null,
    "executionTime": 48,
    "lastExecutedAt": 1753728436195,
    "lastExecutedByKernel": "87e771f3-141a-4264-9e15-dd0e0d295b6d",
    "lastScheduledRunId": null,
    "lastSuccessfullyExecutedCode": "def extract_tabular_data(file_path: str):\n    \"\"\"Extract data from a tabular file_format, with pandas.\"\"\"\n    if file_path.endswith(\".csv\"):\n       return pd.read_csv(file_path)\n    elif file_path.endswith(\".parquet\"):\n        return pd.read_parquet(file_path)\n    else: \n        raise Exception(\"Warning: Invalid file extension. Please try with .csv or .parquet!\")"
   },
   "outputs": [],
   "source": [
    "def extract_tabular_data(file_path: str):\n",
    "    \"\"\"Extract data from a tabular file_format, with pandas.\"\"\"\n",
    "    if file_path.endswith(\".csv\"):\n",
    "       return pd.read_csv(file_path)\n",
    "    elif file_path.endswith(\".parquet\"):\n",
    "        return pd.read_parquet(file_path)\n",
    "    else: \n",
    "        raise Exception(\"Warning: Invalid file extension. Please try with .csv or .parquet!\")"
   ]
  },
  {
   "cell_type": "code",
   "execution_count": 5,
   "id": "ecbc91c2-e0cc-4ae7-a7e8-ab2a56f1a1a9",
   "metadata": {
    "executionCancelledAt": null,
    "executionTime": 51,
    "lastExecutedAt": 1753728436247,
    "lastExecutedByKernel": "87e771f3-141a-4264-9e15-dd0e0d295b6d",
    "lastScheduledRunId": null,
    "lastSuccessfullyExecutedCode": "def extract_json_data(file_path):\n    \"\"\"Extract and flatten data from a JSON file.\"\"\"\n    with open(file_path, 'r') as json_file:\n        raw_data=json.load(json_file)\n        \n    return pd.json_normalize(raw_data)"
   },
   "outputs": [],
   "source": [
    "def extract_json_data(file_path):\n",
    "    \"\"\"Extract and flatten data from a JSON file.\"\"\"\n",
    "    with open(file_path, 'r') as json_file:\n",
    "        raw_data=json.load(json_file)\n",
    "        \n",
    "    return pd.json_normalize(raw_data)"
   ]
  },
  {
   "cell_type": "code",
   "execution_count": null,
   "id": "3cc22273-22b8-4f30-8c11-a746f884509f",
   "metadata": {
    "executionCancelledAt": null,
    "executionTime": 51,
    "lastExecutedAt": 1753728436299,
    "lastExecutedByKernel": "87e771f3-141a-4264-9e15-dd0e0d295b6d",
    "lastScheduledRunId": null,
    "lastSuccessfullyExecutedCode": "import pandas as pd\n\ndef transform_electricity_sales_data(raw_data: pd.DataFrame):\n    \"\"\"\n    Transform electricity sales to find the total amount of electricity sold\n    in the residential and transportation sectors.\n    \n    To transform the electricity sales data, you'll need to do the following:\n    - Drop any records with NA values in the `price` column. Do this inplace.\n    - Only keep records with a `sectorName` of \"residential\" or \"transportation\".\n    - Create a `month` column using the first 4 characters of the values in `period`.\n    - Create a `year` column using the last 2 characters of the values in `period`.\n    - Return the transformed `DataFrame`, keeping only the columns `year`, `month`, `stateid`, `price` and `price-units`.\n    \"\"\"\n    raw_data.dropna(subset=[\"price\"], inplace=True)\n    cleaned_data = raw_data[raw_data[\"sectorName\"].isin(['residential', 'transportation'])]\n\n    cleaned_data[\"month\"] = cleaned_data[\"period\"].str[0:4]\n    cleaned_data[\"year\"] = cleaned_data[\"period\"].str[-2:]\n\n    cleaned_data = cleaned_data.drop(columns=[\"period\", \"stateDescription\", \"sectorid\", \"sectorName\"])\n    \n    return cleaned_data[[\"year\", \"month\", \"stateid\", \"price\", \"price-units\"]]"
   },
   "outputs": [],
   "source": [
    "def transform_electricity_sales_data(raw_data: pd.DataFrame):\n",
    "    \"\"\"\n",
    "    Transform electricity sales to find the total amount of electricity sold\n",
    "    in the residential and transportation sectors.\n",
    "    \n",
    "    To transform the electricity sales data, you'll need to do the following:\n",
    "    - Drop any records with NA values in the `price` column. Do this inplace.\n",
    "    - Only keep records with a `sectorName` of \"residential\" or \"transportation\".\n",
    "    - Create a `month` column using the first 4 characters of the values in `period`.\n",
    "    - Create a `year` column using the last 2 characters of the values in `period`.\n",
    "    - Return the transformed `DataFrame`, keeping only the columns `year`, `month`, `stateid`, `price` and `price-units`.\n",
    "    \"\"\"\n",
    "    raw_data.dropna(subset=[\"price\"], inplace=True)\n",
    "    cleaned_data = raw_data[raw_data[\"sectorName\"].isin(['residential', 'transportation', 'industrial'])]\n",
    "\n",
    "    cleaned_data = cleaned_data.drop(columns=[\"stateid\", \"sectorid\"])\n",
    "    \n",
    "    return cleaned_data[[\"period\", \"stateDescription\", \"sectorName\", \"price\", \"price-units\"]]"
   ]
  },
  {
   "cell_type": "code",
   "execution_count": 7,
   "id": "66e6db3c-ebfa-4f7b-9668-eac8a01f4263",
   "metadata": {
    "executionCancelledAt": null,
    "executionTime": 48,
    "lastExecutedAt": 1753728436347,
    "lastExecutedByKernel": "87e771f3-141a-4264-9e15-dd0e0d295b6d",
    "lastScheduledRunId": null,
    "lastSuccessfullyExecutedCode": "def load(dataframe: pd.DataFrame, file_path: str):\n    \"\"\"Load a DataFrame to a file in either CSV or Parquet format.\"\"\"\n    if file_path.endswith(\".csv\"):\n        return dataframe.to_csv(file_path)\n    elif file_path.endswith(\".parquet\"):\n        return dataframe.to_parquet(file_path)\n    else: \n        return Exception(\"Warning: {filepath} is not a valid file type. Please try again!_\")\n    "
   },
   "outputs": [],
   "source": [
    "def load(dataframe: pd.DataFrame, file_path: str):\n",
    "    \"\"\"Load a DataFrame to a file in either CSV or Parquet format.\"\"\"\n",
    "    if file_path.endswith(\".csv\"):\n",
    "        return dataframe.to_csv(file_path)\n",
    "    elif file_path.endswith(\".parquet\"):\n",
    "        return dataframe.to_parquet(file_path)\n",
    "    else: \n",
    "        return Exception(\"Warning: {filepath} is not a valid file type. Please try again!_\")\n",
    "    "
   ]
  },
  {
   "cell_type": "code",
   "execution_count": 19,
   "id": "befd9c30-8fa0-465f-bfc4-675d25d51e62",
   "metadata": {
    "executionCancelledAt": null,
    "executionTime": 121,
    "lastExecutedAt": 1753728436468,
    "lastExecutedByKernel": "87e771f3-141a-4264-9e15-dd0e0d295b6d",
    "lastScheduledRunId": null,
    "lastSuccessfullyExecutedCode": "# Ready for the moment of truth? It's time to test the functions that you wrote!\nraw_electricity_capability_df = extract_json_data(\"electricity_capability_nested.json\")\nraw_electricity_sales_df = extract_tabular_data(\"electricity_sales.csv\")\n\ncleaned_electricity_sales_df = transform_electricity_sales_data(raw_electricity_sales_df)\n\nload(raw_electricity_capability_df, \"loaded__electricity_capability.parquet\")\nload(cleaned_electricity_sales_df, \"loaded__electricity_sales.csv\")"
   },
   "outputs": [
    {
     "data": {
      "text/html": [
       "<div>\n",
       "<style scoped>\n",
       "    .dataframe tbody tr th:only-of-type {\n",
       "        vertical-align: middle;\n",
       "    }\n",
       "\n",
       "    .dataframe tbody tr th {\n",
       "        vertical-align: top;\n",
       "    }\n",
       "\n",
       "    .dataframe thead th {\n",
       "        text-align: right;\n",
       "    }\n",
       "</style>\n",
       "<table border=\"1\" class=\"dataframe\">\n",
       "  <thead>\n",
       "    <tr style=\"text-align: right;\">\n",
       "      <th></th>\n",
       "      <th>period</th>\n",
       "      <th>stateid</th>\n",
       "      <th>stateDescription</th>\n",
       "      <th>sectorid</th>\n",
       "      <th>sectorName</th>\n",
       "      <th>price</th>\n",
       "      <th>price-units</th>\n",
       "    </tr>\n",
       "  </thead>\n",
       "  <tbody>\n",
       "    <tr>\n",
       "      <th>0</th>\n",
       "      <td>2023-12</td>\n",
       "      <td>HI</td>\n",
       "      <td>Hawaii</td>\n",
       "      <td>TRA</td>\n",
       "      <td>transportation</td>\n",
       "      <td>0.00</td>\n",
       "      <td>cents per kilowatt-hour</td>\n",
       "    </tr>\n",
       "    <tr>\n",
       "      <th>1</th>\n",
       "      <td>2023-12</td>\n",
       "      <td>ID</td>\n",
       "      <td>Idaho</td>\n",
       "      <td>ALL</td>\n",
       "      <td>all sectors</td>\n",
       "      <td>9.46</td>\n",
       "      <td>cents per kilowatt-hour</td>\n",
       "    </tr>\n",
       "    <tr>\n",
       "      <th>2</th>\n",
       "      <td>2023-12</td>\n",
       "      <td>ID</td>\n",
       "      <td>Idaho</td>\n",
       "      <td>COM</td>\n",
       "      <td>commercial</td>\n",
       "      <td>8.88</td>\n",
       "      <td>cents per kilowatt-hour</td>\n",
       "    </tr>\n",
       "    <tr>\n",
       "      <th>3</th>\n",
       "      <td>2023-12</td>\n",
       "      <td>ID</td>\n",
       "      <td>Idaho</td>\n",
       "      <td>IND</td>\n",
       "      <td>industrial</td>\n",
       "      <td>6.21</td>\n",
       "      <td>cents per kilowatt-hour</td>\n",
       "    </tr>\n",
       "    <tr>\n",
       "      <th>4</th>\n",
       "      <td>2023-12</td>\n",
       "      <td>ID</td>\n",
       "      <td>Idaho</td>\n",
       "      <td>OTH</td>\n",
       "      <td>other</td>\n",
       "      <td>NaN</td>\n",
       "      <td>cents per kilowatt-hour</td>\n",
       "    </tr>\n",
       "  </tbody>\n",
       "</table>\n",
       "</div>"
      ],
      "text/plain": [
       "    period stateid stateDescription sectorid      sectorName  price  \\\n",
       "0  2023-12      HI           Hawaii      TRA  transportation   0.00   \n",
       "1  2023-12      ID            Idaho      ALL     all sectors   9.46   \n",
       "2  2023-12      ID            Idaho      COM      commercial   8.88   \n",
       "3  2023-12      ID            Idaho      IND      industrial   6.21   \n",
       "4  2023-12      ID            Idaho      OTH           other    NaN   \n",
       "\n",
       "               price-units  \n",
       "0  cents per kilowatt-hour  \n",
       "1  cents per kilowatt-hour  \n",
       "2  cents per kilowatt-hour  \n",
       "3  cents per kilowatt-hour  \n",
       "4  cents per kilowatt-hour  "
      ]
     },
     "execution_count": 19,
     "metadata": {},
     "output_type": "execute_result"
    }
   ],
   "source": [
    "raw_electricity_capability_df = extract_json_data(\"electricity_capability_nested.json\")\n",
    "raw_electricity_sales_df = extract_tabular_data(\"electricity_sales.csv\")\n",
    "\n",
    "raw_electricity_sales_df.head()"
   ]
  },
  {
   "cell_type": "code",
   "execution_count": null,
   "id": "5310c9a1",
   "metadata": {},
   "outputs": [
    {
     "data": {
      "text/plain": [
       "period                0\n",
       "stateid               0\n",
       "stateDescription      0\n",
       "sectorid              0\n",
       "sectorName            0\n",
       "price               806\n",
       "price-units           0\n",
       "dtype: int64"
      ]
     },
     "execution_count": 24,
     "metadata": {},
     "output_type": "execute_result"
    }
   ],
   "source": [
    "#Cheching for missing values \n",
    "raw_electricity_sales_df.isnull().sum()"
   ]
  },
  {
   "cell_type": "code",
   "execution_count": 20,
   "id": "4f77796b",
   "metadata": {},
   "outputs": [
    {
     "data": {
      "text/html": [
       "<div>\n",
       "<style scoped>\n",
       "    .dataframe tbody tr th:only-of-type {\n",
       "        vertical-align: middle;\n",
       "    }\n",
       "\n",
       "    .dataframe tbody tr th {\n",
       "        vertical-align: top;\n",
       "    }\n",
       "\n",
       "    .dataframe thead th {\n",
       "        text-align: right;\n",
       "    }\n",
       "</style>\n",
       "<table border=\"1\" class=\"dataframe\">\n",
       "  <thead>\n",
       "    <tr style=\"text-align: right;\">\n",
       "      <th></th>\n",
       "      <th>period</th>\n",
       "      <th>stateid</th>\n",
       "      <th>stateDescription</th>\n",
       "      <th>sectorid</th>\n",
       "      <th>sectorName</th>\n",
       "      <th>price-units</th>\n",
       "    </tr>\n",
       "  </thead>\n",
       "  <tbody>\n",
       "    <tr>\n",
       "      <th>count</th>\n",
       "      <td>4836</td>\n",
       "      <td>4836</td>\n",
       "      <td>4836</td>\n",
       "      <td>4836</td>\n",
       "      <td>4836</td>\n",
       "      <td>4836</td>\n",
       "    </tr>\n",
       "    <tr>\n",
       "      <th>unique</th>\n",
       "      <td>13</td>\n",
       "      <td>62</td>\n",
       "      <td>62</td>\n",
       "      <td>6</td>\n",
       "      <td>6</td>\n",
       "      <td>1</td>\n",
       "    </tr>\n",
       "    <tr>\n",
       "      <th>top</th>\n",
       "      <td>2023-12</td>\n",
       "      <td>HI</td>\n",
       "      <td>Hawaii</td>\n",
       "      <td>TRA</td>\n",
       "      <td>transportation</td>\n",
       "      <td>cents per kilowatt-hour</td>\n",
       "    </tr>\n",
       "    <tr>\n",
       "      <th>freq</th>\n",
       "      <td>372</td>\n",
       "      <td>78</td>\n",
       "      <td>78</td>\n",
       "      <td>806</td>\n",
       "      <td>806</td>\n",
       "      <td>4836</td>\n",
       "    </tr>\n",
       "  </tbody>\n",
       "</table>\n",
       "</div>"
      ],
      "text/plain": [
       "         period stateid stateDescription sectorid      sectorName  \\\n",
       "count      4836    4836             4836     4836            4836   \n",
       "unique       13      62               62        6               6   \n",
       "top     2023-12      HI           Hawaii      TRA  transportation   \n",
       "freq        372      78               78      806             806   \n",
       "\n",
       "                    price-units  \n",
       "count                      4836  \n",
       "unique                        1  \n",
       "top     cents per kilowatt-hour  \n",
       "freq                       4836  "
      ]
     },
     "execution_count": 20,
     "metadata": {},
     "output_type": "execute_result"
    }
   ],
   "source": [
    "raw_electricity_sales_df.describe(include='object')"
   ]
  },
  {
   "cell_type": "code",
   "execution_count": 26,
   "id": "61daa94a",
   "metadata": {},
   "outputs": [
    {
     "data": {
      "text/plain": [
       "array(['Hawaii', 'Idaho', 'Illinois', 'Indiana', 'Iowa', 'Kansas',\n",
       "       'Kentucky', 'Louisiana', 'Maine', 'Maryland', 'Wyoming',\n",
       "       'New England', 'Middle Atlantic', 'East North Central',\n",
       "       'West North Central', 'South Atlantic', 'East South Central',\n",
       "       'West South Central', 'Mountain', 'Massachusetts', 'Michigan',\n",
       "       'Minnesota', 'New Jersey', 'New Mexico', 'New York',\n",
       "       'North Carolina', 'North Dakota', 'Pacific Contiguous',\n",
       "       'Pacific Noncontiguous', 'U.S. Total', 'Arizona', 'Arkansas',\n",
       "       'California', 'Colorado', 'Connecticut', 'Mississippi', 'Delaware',\n",
       "       'District of Columbia', 'Florida', 'Georgia', 'Missouri',\n",
       "       'Montana', 'Nebraska', 'New Hampshire', 'South Dakota',\n",
       "       'Tennessee', 'Texas', 'Utah', 'Vermont', 'Virginia', 'Washington',\n",
       "       'West Virginia', 'Wisconsin', 'Alabama', 'Alaska', 'Ohio',\n",
       "       'Oklahoma', 'Rhode Island', 'South Carolina', 'Oregon',\n",
       "       'Pennsylvania', 'Nevada'], dtype=object)"
      ]
     },
     "execution_count": 26,
     "metadata": {},
     "output_type": "execute_result"
    }
   ],
   "source": [
    "raw_electricity_sales_df['stateDescription'].unique()"
   ]
  },
  {
   "cell_type": "code",
   "execution_count": 44,
   "id": "6de05290",
   "metadata": {},
   "outputs": [
    {
     "data": {
      "text/plain": [
       "transportation    806\n",
       "all sectors       806\n",
       "commercial        806\n",
       "industrial        806\n",
       "residential       806\n",
       "Name: sectorName, dtype: int64"
      ]
     },
     "execution_count": 44,
     "metadata": {},
     "output_type": "execute_result"
    }
   ],
   "source": [
    "raw_electricity_sales_df['sectorName'].value_counts()"
   ]
  },
  {
   "cell_type": "code",
   "execution_count": 28,
   "id": "23f0da5c",
   "metadata": {},
   "outputs": [
    {
     "data": {
      "text/html": [
       "<div>\n",
       "<style scoped>\n",
       "    .dataframe tbody tr th:only-of-type {\n",
       "        vertical-align: middle;\n",
       "    }\n",
       "\n",
       "    .dataframe tbody tr th {\n",
       "        vertical-align: top;\n",
       "    }\n",
       "\n",
       "    .dataframe thead th {\n",
       "        text-align: right;\n",
       "    }\n",
       "</style>\n",
       "<table border=\"1\" class=\"dataframe\">\n",
       "  <thead>\n",
       "    <tr style=\"text-align: right;\">\n",
       "      <th></th>\n",
       "      <th>period</th>\n",
       "      <th>stateDescription</th>\n",
       "      <th>sectorName</th>\n",
       "      <th>price</th>\n",
       "      <th>price-units</th>\n",
       "    </tr>\n",
       "  </thead>\n",
       "  <tbody>\n",
       "    <tr>\n",
       "      <th>0</th>\n",
       "      <td>2023-12</td>\n",
       "      <td>Hawaii</td>\n",
       "      <td>transportation</td>\n",
       "      <td>0.00</td>\n",
       "      <td>cents per kilowatt-hour</td>\n",
       "    </tr>\n",
       "    <tr>\n",
       "      <th>3</th>\n",
       "      <td>2023-12</td>\n",
       "      <td>Idaho</td>\n",
       "      <td>industrial</td>\n",
       "      <td>6.21</td>\n",
       "      <td>cents per kilowatt-hour</td>\n",
       "    </tr>\n",
       "    <tr>\n",
       "      <th>5</th>\n",
       "      <td>2023-12</td>\n",
       "      <td>Idaho</td>\n",
       "      <td>residential</td>\n",
       "      <td>11.53</td>\n",
       "      <td>cents per kilowatt-hour</td>\n",
       "    </tr>\n",
       "    <tr>\n",
       "      <th>6</th>\n",
       "      <td>2023-12</td>\n",
       "      <td>Idaho</td>\n",
       "      <td>transportation</td>\n",
       "      <td>0.00</td>\n",
       "      <td>cents per kilowatt-hour</td>\n",
       "    </tr>\n",
       "    <tr>\n",
       "      <th>9</th>\n",
       "      <td>2023-12</td>\n",
       "      <td>Illinois</td>\n",
       "      <td>industrial</td>\n",
       "      <td>8.10</td>\n",
       "      <td>cents per kilowatt-hour</td>\n",
       "    </tr>\n",
       "  </tbody>\n",
       "</table>\n",
       "</div>"
      ],
      "text/plain": [
       "    period stateDescription      sectorName  price              price-units\n",
       "0  2023-12           Hawaii  transportation   0.00  cents per kilowatt-hour\n",
       "3  2023-12            Idaho      industrial   6.21  cents per kilowatt-hour\n",
       "5  2023-12            Idaho     residential  11.53  cents per kilowatt-hour\n",
       "6  2023-12            Idaho  transportation   0.00  cents per kilowatt-hour\n",
       "9  2023-12         Illinois      industrial   8.10  cents per kilowatt-hour"
      ]
     },
     "execution_count": 28,
     "metadata": {},
     "output_type": "execute_result"
    }
   ],
   "source": [
    "cleaned_electricity_sales_df = transform_electricity_sales_data(raw_electricity_sales_df)\n",
    "#load(cleaned_electricity_sales_df, \"loaded__electricity_sales.csv\")\n",
    "\n",
    "cleaned_electricity_sales_df.head()"
   ]
  },
  {
   "cell_type": "code",
   "execution_count": 50,
   "id": "3d7c1fd9",
   "metadata": {},
   "outputs": [
    {
     "data": {
      "image/png": "[encoded data removed]",
      "text/plain": [
       "<Figure size 1500x500 with 3 Axes>"
      ]
     },
     "metadata": {},
     "output_type": "display_data"
    }
   ],
   "source": [
    "g = sns.displot(data=cleaned_electricity_sales_df, x=\"price\",col=\"sectorName\",kde=True)\n",
    "g.fig.suptitle(\"Electricity Price Distribution by Sector\", fontsize=14) # add a title\n",
    "\n",
    "g.set_axis_labels(\"Price (cents/kWh)\", \"Count\")\n",
    "\n",
    "g.fig.tight_layout()\n",
    "g.fig.subplots_adjust(top=0.85)\n",
    "\n",
    "plt.show()"
   ]
  }
 ],
 "metadata": {
  "colab": {
   "name": "Welcome to DataCamp Workspaces.ipynb",
   "provenance": []
  },
  "editor": "DataLab",
  "kernelspec": {
   "display_name": "base",
   "language": "python",
   "name": "python3"
  },
  "language_info": {
   "codemirror_mode": {
    "name": "ipython",
    "version": 3
   },
   "file_extension": ".py",
   "mimetype": "text/x-python",
   "name": "python",
   "nbconvert_exporter": "python",
   "pygments_lexer": "ipython3",
   "version": "3.9.13"
  }
 },
 "nbformat": 4,
 "nbformat_minor": 5
}
